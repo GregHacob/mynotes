{
 "cells": [
  {
   "cell_type": "markdown",
   "metadata": {},
   "source": [
    "Implement atoi to convert a string to an integer."
   ]
  },
  {
   "cell_type": "code",
   "execution_count": 2,
   "metadata": {
    "collapsed": true
   },
   "outputs": [],
   "source": [
    "import sys\n",
    "\n",
    "class Solution(object):\n",
    "    def myAtoi(self, mystr):\n",
    "        if len(mystr) == 0: return 0\n",
    "        digits = self.getDigits(mystr)\n",
    "        if digits == 0:\n",
    "            return 0\n",
    "        else:\n",
    "            return self.convert(digits)\n",
    "        \n",
    "    def convert(self, digits):\n",
    "        int_number = int(''.join(map(str, digits)))\n",
    "        if int_number > 2147483647:\n",
    "            return 2147483647\n",
    "        elif int_number < -2147483648:\n",
    "            return -2147483648\n",
    "        else:\n",
    "            return int_number\n",
    "    \n",
    "        \n",
    "    def getDigits(self, mystr):\n",
    "        mystr = mystr.strip()\n",
    "        mydigits = []\n",
    "        isdigit = False\n",
    "        issign = False\n",
    "        for i,c in enumerate(mystr):\n",
    "            if (ord(c) == 43 or ord(c)==45):\n",
    "                if not isdigit:\n",
    "                    if issign:\n",
    "                        return 0\n",
    "                    else:\n",
    "                        mydigits.append(c)\n",
    "                        issign = True\n",
    "                else:\n",
    "                    return mydigits\n",
    "            elif ( (i==0) and (ord(c) <48 or ord(c)>57) ):\n",
    "                return 0\n",
    "            elif (ord(c) >=48 and ord(c)<=57):\n",
    "                isdigit = True\n",
    "                mydigits.append(c)\n",
    "            else:  \n",
    "                if isdigit == False:\n",
    "                    return 0\n",
    "                else:\n",
    "                    return mydigits\n",
    "        if isdigit == False:\n",
    "            return 0\n",
    "        else:\n",
    "            return mydigits"
   ]
  },
  {
   "cell_type": "code",
   "execution_count": null,
   "metadata": {
    "collapsed": true
   },
   "outputs": [],
   "source": []
  }
 ],
 "metadata": {
  "kernelspec": {
   "display_name": "Python 2",
   "language": "python",
   "name": "python2"
  },
  "language_info": {
   "codemirror_mode": {
    "name": "ipython",
    "version": 2
   },
   "file_extension": ".py",
   "mimetype": "text/x-python",
   "name": "python",
   "nbconvert_exporter": "python",
   "pygments_lexer": "ipython2",
   "version": "2.7.13"
  }
 },
 "nbformat": 4,
 "nbformat_minor": 2
}
