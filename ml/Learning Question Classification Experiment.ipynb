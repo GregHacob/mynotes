{
 "cells": [
  {
   "cell_type": "code",
   "execution_count": 1,
   "metadata": {
    "collapsed": true
   },
   "outputs": [],
   "source": [
    "import pandas as pd\n",
    "import re"
   ]
  },
  {
   "cell_type": "code",
   "execution_count": 2,
   "metadata": {
    "collapsed": true
   },
   "outputs": [],
   "source": [
    "data = pd.read_table(\"Learning_Question_Classification.txt\", sep='__', header=None, names=['label', 'questions'], engine='python')"
   ]
  },
  {
   "cell_type": "code",
   "execution_count": 3,
   "metadata": {},
   "outputs": [
    {
     "data": {
      "text/html": [
       "<div>\n",
       "<style>\n",
       "    .dataframe thead tr:only-child th {\n",
       "        text-align: right;\n",
       "    }\n",
       "\n",
       "    .dataframe thead th {\n",
       "        text-align: left;\n",
       "    }\n",
       "\n",
       "    .dataframe tbody tr th {\n",
       "        vertical-align: top;\n",
       "    }\n",
       "</style>\n",
       "<table border=\"1\" class=\"dataframe\">\n",
       "  <thead>\n",
       "    <tr style=\"text-align: right;\">\n",
       "      <th></th>\n",
       "      <th>label</th>\n",
       "      <th>questions</th>\n",
       "    </tr>\n",
       "  </thead>\n",
       "  <tbody>\n",
       "    <tr>\n",
       "      <th>0</th>\n",
       "      <td>DESC:manner</td>\n",
       "      <td>How did serfdom develop in and then leave Rus...</td>\n",
       "    </tr>\n",
       "    <tr>\n",
       "      <th>1</th>\n",
       "      <td>ENTY:cremat</td>\n",
       "      <td>What films featured the character Popeye Doyle ?</td>\n",
       "    </tr>\n",
       "    <tr>\n",
       "      <th>2</th>\n",
       "      <td>DESC:manner</td>\n",
       "      <td>How can I find a list of celebrities ' real n...</td>\n",
       "    </tr>\n",
       "    <tr>\n",
       "      <th>3</th>\n",
       "      <td>ENTY:animal</td>\n",
       "      <td>What fowl grabs the spotlight after the Chine...</td>\n",
       "    </tr>\n",
       "    <tr>\n",
       "      <th>4</th>\n",
       "      <td>ABBR:exp</td>\n",
       "      <td>What is the full form of .com ?</td>\n",
       "    </tr>\n",
       "  </tbody>\n",
       "</table>\n",
       "</div>"
      ],
      "text/plain": [
       "         label                                          questions\n",
       "0  DESC:manner   How did serfdom develop in and then leave Rus...\n",
       "1  ENTY:cremat   What films featured the character Popeye Doyle ?\n",
       "2  DESC:manner   How can I find a list of celebrities ' real n...\n",
       "3  ENTY:animal   What fowl grabs the spotlight after the Chine...\n",
       "4     ABBR:exp                    What is the full form of .com ?"
      ]
     },
     "execution_count": 3,
     "metadata": {},
     "output_type": "execute_result"
    }
   ],
   "source": [
    "data.head()"
   ]
  },
  {
   "cell_type": "code",
   "execution_count": 4,
   "metadata": {},
   "outputs": [
    {
     "name": "stdout",
     "output_type": "stream",
     "text": [
      "Number of classes: 50\n"
     ]
    }
   ],
   "source": [
    "print \"Number of classes: {}\".format(len(data.label.value_counts()))"
   ]
  },
  {
   "cell_type": "code",
   "execution_count": 5,
   "metadata": {
    "collapsed": true
   },
   "outputs": [],
   "source": [
    "X = data.questions\n",
    "y = data.label"
   ]
  },
  {
   "cell_type": "code",
   "execution_count": 6,
   "metadata": {
    "collapsed": true
   },
   "outputs": [],
   "source": [
    "from sklearn.feature_extraction.text import CountVectorizer\n",
    "\n",
    "# instantiate the vectoizer\n",
    "vect = CountVectorizer()"
   ]
  },
  {
   "cell_type": "code",
   "execution_count": 7,
   "metadata": {
    "collapsed": true
   },
   "outputs": [],
   "source": [
    "from sklearn.model_selection import train_test_split\n",
    "X_train, X_test, y_train, y_test = train_test_split(X, y, random_state=1)"
   ]
  },
  {
   "cell_type": "code",
   "execution_count": 8,
   "metadata": {
    "collapsed": true
   },
   "outputs": [],
   "source": [
    "X_train_dtm = vect.fit_transform(X_train)"
   ]
  },
  {
   "cell_type": "code",
   "execution_count": 9,
   "metadata": {
    "collapsed": true
   },
   "outputs": [],
   "source": [
    "X_test_dtm = vect.transform(X_test)"
   ]
  },
  {
   "cell_type": "code",
   "execution_count": 10,
   "metadata": {
    "collapsed": true
   },
   "outputs": [],
   "source": [
    "# import and instantiate a logistic regression model\n",
    "from sklearn.linear_model import LogisticRegression\n",
    "logreg = LogisticRegression()"
   ]
  },
  {
   "cell_type": "code",
   "execution_count": 11,
   "metadata": {},
   "outputs": [
    {
     "data": {
      "text/plain": [
       "LogisticRegression(C=1.0, class_weight=None, dual=False, fit_intercept=True,\n",
       "          intercept_scaling=1, max_iter=100, multi_class='ovr', n_jobs=1,\n",
       "          penalty='l2', random_state=None, solver='liblinear', tol=0.0001,\n",
       "          verbose=0, warm_start=False)"
      ]
     },
     "execution_count": 11,
     "metadata": {},
     "output_type": "execute_result"
    }
   ],
   "source": [
    "logreg.fit(X_train_dtm, y_train)"
   ]
  },
  {
   "cell_type": "code",
   "execution_count": 12,
   "metadata": {
    "collapsed": true
   },
   "outputs": [],
   "source": [
    "y_pred_class = logreg.predict(X_test_dtm)"
   ]
  },
  {
   "cell_type": "code",
   "execution_count": 13,
   "metadata": {},
   "outputs": [],
   "source": [
    "from sklearn import metrics\n",
    "\n"
   ]
  },
  {
   "cell_type": "code",
   "execution_count": 14,
   "metadata": {
    "collapsed": true
   },
   "outputs": [],
   "source": [
    "question = pd.Series(['What is the population of California?'])\n",
    "question_dtm = vect.transform(question)"
   ]
  },
  {
   "cell_type": "code",
   "execution_count": 15,
   "metadata": {
    "collapsed": true
   },
   "outputs": [],
   "source": [
    "y_q_pred = logreg.predict(question_dtm)"
   ]
  },
  {
   "cell_type": "code",
   "execution_count": 16,
   "metadata": {},
   "outputs": [
    {
     "data": {
      "text/plain": [
       "array(['NUM:other'], dtype=object)"
      ]
     },
     "execution_count": 16,
     "metadata": {},
     "output_type": "execute_result"
    }
   ],
   "source": [
    "y_q_pred"
   ]
  },
  {
   "cell_type": "code",
   "execution_count": 17,
   "metadata": {
    "collapsed": true
   },
   "outputs": [],
   "source": [
    "returned_data = \"\"\"The United States Census Bureau estimates that the population of California was 39,250,017 on July 1, 2016, a 5.4% increase since the 2010 United States Census. The population is projected to reach 40 million by 2018 and 50 million by 2055.[101]\n",
    "\n",
    "Between 2000 and 2009, there was a natural increase of 3,090,016 (5,058,440 births minus 2,179,958 deaths).[102] During this time period, international migration produced a net increase of 1,816,633 people while domestic migration produced a net decrease of 1,509,708, resulting in a net in-migration of 306,925 people.[102] The state of California's own statistics show a population of 38,292,687 for January 1, 2009.[103] However, according to the Manhattan Institute for Policy Research, since 1990 almost 3.4 million Californians have moved to other states, with most leaving to Texas, Nevada, and Arizona.[104]\n",
    "\n",
    "\"\"\""
   ]
  },
  {
   "cell_type": "code",
   "execution_count": 18,
   "metadata": {
    "collapsed": true
   },
   "outputs": [],
   "source": [
    "from nltk.tokenize import sent_tokenize, word_tokenize\n",
    "\n",
    "sentences = sent_tokenize(returned_data)\n"
   ]
  },
  {
   "cell_type": "code",
   "execution_count": 19,
   "metadata": {},
   "outputs": [
    {
     "name": "stdout",
     "output_type": "stream",
     "text": [
      "['The United States Census Bureau estimates that the population of California was 39,250,017 on July 1, 2016, a 5.4% increase since the 2010 United States Census.', 'The population is projected to reach 40 million by 2018 and 50 million by 2055.', '[101]\\n\\nBetween 2000 and 2009, there was a natural increase of 3,090,016 (5,058,440 births minus 2,179,958 deaths).', '[102] During this time period, international migration produced a net increase of 1,816,633 people while domestic migration produced a net decrease of 1,509,708, resulting in a net in-migration of 306,925 people.', \"[102] The state of California's own statistics show a population of 38,292,687 for January 1, 2009.\", '[103] However, according to the Manhattan Institute for Policy Research, since 1990 almost 3.4 million Californians have moved to other states, with most leaving to Texas, Nevada, and Arizona.', '[104]']\n"
     ]
    }
   ],
   "source": [
    "print sentences"
   ]
  },
  {
   "cell_type": "code",
   "execution_count": 22,
   "metadata": {},
   "outputs": [
    {
     "name": "stdout",
     "output_type": "stream",
     "text": [
      "(S\n",
      "  The/DT\n",
      "  United/NNP\n",
      "  States/NNPS\n",
      "  Census/NNP\n",
      "  Bureau/NNP\n",
      "  estimates/VBZ\n",
      "  that/IN\n",
      "  the/DT\n",
      "  population/NN\n",
      "  of/IN\n",
      "  California/NNP\n",
      "  was/VBD\n",
      "  39,250,017/CD\n",
      "  on/IN\n",
      "  July/NNP\n",
      "  1/CD\n",
      "  ,/,\n",
      "  2016/CD\n",
      "  ,/,\n",
      "  a/DT\n",
      "  5.4/CD\n",
      "  %/NN\n",
      "  increase/NN\n",
      "  since/IN\n",
      "  the/DT\n",
      "  2010/CD\n",
      "  United/NNP\n",
      "  States/NNPS\n",
      "  Census/NNP\n",
      "  ./.)\n",
      "\n",
      "(S\n",
      "  (NP The/DT population/NN is/VBZ projected/VBN to/TO reach/VB)\n",
      "  40/CD\n",
      "  million/CD\n",
      "  by/IN\n",
      "  2018/CD\n",
      "  and/CC\n",
      "  50/CD\n",
      "  million/CD\n",
      "  by/IN\n",
      "  2055/CD\n",
      "  ./.)\n",
      "\n",
      "(S\n",
      "  [/RB\n",
      "  101/CD\n",
      "  ]/NNS\n",
      "  Between/JJ\n",
      "  2000/CD\n",
      "  and/CC\n",
      "  2009/CD\n",
      "  ,/,\n",
      "  there/EX\n",
      "  was/VBD\n",
      "  a/DT\n",
      "  natural/JJ\n",
      "  increase/NN\n",
      "  of/IN\n",
      "  3,090,016/CD\n",
      "  (/(\n",
      "  5,058,440/CD\n",
      "  births/NNS\n",
      "  minus/CC\n",
      "  2,179,958/CD\n",
      "  deaths/NNS\n",
      "  )/)\n",
      "  ./.)\n",
      "\n",
      "(S\n",
      "  [/RB\n",
      "  102/CD\n",
      "  ]/NN\n",
      "  During/IN\n",
      "  this/DT\n",
      "  time/NN\n",
      "  period/NN\n",
      "  ,/,\n",
      "  international/JJ\n",
      "  migration/NN\n",
      "  produced/VBD\n",
      "  a/DT\n",
      "  net/JJ\n",
      "  increase/NN\n",
      "  of/IN\n",
      "  1,816,633/CD\n",
      "  people/NNS\n",
      "  while/IN\n",
      "  domestic/JJ\n",
      "  migration/NN\n",
      "  produced/VBD\n",
      "  a/DT\n",
      "  net/JJ\n",
      "  decrease/NN\n",
      "  of/IN\n",
      "  1,509,708/CD\n",
      "  ,/,\n",
      "  resulting/VBG\n",
      "  in/IN\n",
      "  a/DT\n",
      "  net/JJ\n",
      "  in-migration/NN\n",
      "  of/IN\n",
      "  306,925/CD\n",
      "  people/NNS\n",
      "  ./.)\n",
      "\n",
      "(S\n",
      "  [/RB\n",
      "  102/CD\n",
      "  ]/VBD\n",
      "  The/DT\n",
      "  state/NN\n",
      "  of/IN\n",
      "  California/NNP\n",
      "  's/POS\n",
      "  own/JJ\n",
      "  statistics/NNS\n",
      "  show/VBP\n",
      "  a/DT\n",
      "  population/NN\n",
      "  of/IN\n",
      "  38,292,687/CD\n",
      "  for/IN\n",
      "  January/NNP\n",
      "  1/CD\n",
      "  ,/,\n",
      "  2009/CD\n",
      "  ./.)\n",
      "\n",
      "(S\n",
      "  [/RB\n",
      "  103/CD\n",
      "  ]/JJ\n",
      "  However/RB\n",
      "  ,/,\n",
      "  according/VBG\n",
      "  to/TO\n",
      "  the/DT\n",
      "  Manhattan/NNP\n",
      "  Institute/NNP\n",
      "  for/IN\n",
      "  Policy/NNP\n",
      "  Research/NNP\n",
      "  ,/,\n",
      "  since/IN\n",
      "  1990/CD\n",
      "  almost/RB\n",
      "  3.4/CD\n",
      "  million/CD\n",
      "  Californians/NNPS\n",
      "  have/VBP\n",
      "  moved/VBN\n",
      "  to/TO\n",
      "  other/JJ\n",
      "  states/NNS\n",
      "  ,/,\n",
      "  with/IN\n",
      "  most/RBS\n",
      "  leaving/VBG\n",
      "  to/TO\n",
      "  Texas/NNP\n",
      "  ,/,\n",
      "  Nevada/NNP\n",
      "  ,/,\n",
      "  and/CC\n",
      "  Arizona/NNP\n",
      "  ./.)\n",
      "\n",
      "(S [/RB 104/CD ]/NNS)\n",
      "\n"
     ]
    }
   ],
   "source": [
    "grammar = \"NP: { <DT><NN.*>+<VB.*>+<TO>*<VB.*>+}\"\n",
    "cp = nltk.RegexpParser(grammar)\n",
    "\n",
    "\n",
    "for sents in sentences:\n",
    "    words = word_tokenize(sents)\n",
    "    tags = nltk.pos_tag(words)\n",
    "    result = cp.parse(tags)\n",
    "\n",
    "    print result\n",
    "    print"
   ]
  },
  {
   "cell_type": "code",
   "execution_count": 23,
   "metadata": {
    "collapsed": true
   },
   "outputs": [],
   "source": [
    "import json\n",
    "\n",
    "with open('/Users/greg/Developments/Avata/Amgen SOPs/meals.json') as data_file:    \n",
    "    data = json.load(data_file)"
   ]
  },
  {
   "cell_type": "code",
   "execution_count": 24,
   "metadata": {
    "collapsed": true
   },
   "outputs": [],
   "source": [
    "question = ['What are the federal governmmet rules?']\n",
    "question_series = pd.Series(question)\n",
    "question_dtm = vect.transform(question)\n",
    "y_q_pred = logreg.predict(question_dtm)\n",
    "main_cat, semantic = y_q_pred[0].split(\":\")"
   ]
  },
  {
   "cell_type": "code",
   "execution_count": 25,
   "metadata": {},
   "outputs": [
    {
     "name": "stdout",
     "output_type": "stream",
     "text": [
      "['DESC:def']\n"
     ]
    }
   ],
   "source": [
    "print y_q_pred"
   ]
  },
  {
   "cell_type": "code",
   "execution_count": 26,
   "metadata": {},
   "outputs": [
    {
     "name": "stdout",
     "output_type": "stream",
     "text": [
      "(S\n",
      "  What/WP\n",
      "  are/VBP\n",
      "  (NP the/DT federal/JJ governmmet/NN rules/NNS)\n",
      "  ?/.)\n",
      "\n"
     ]
    }
   ],
   "source": [
    "grammar = \"NP: { <DT><NN.*>*<JJ>*<IN>*<NN.*>*}\"\n",
    "cp = nltk.RegexpParser(grammar)\n",
    "\n",
    "words = word_tokenize(question[0])\n",
    "tags = nltk.pos_tag(words)\n",
    "result = cp.parse(tags)\n",
    "\n",
    "print result\n",
    "print"
   ]
  },
  {
   "cell_type": "code",
   "execution_count": 27,
   "metadata": {
    "collapsed": true
   },
   "outputs": [],
   "source": [
    "from nltk.corpus import wordnet as WN\n",
    "from nltk.corpus import stopwords\n",
    "stop_words_en = set(stopwords.words('english'))\n",
    "\n",
    "\n",
    "def SpellChecker(line):\n",
    "    for i in word_tokenize(line):\n",
    "        strip = i.rstrip()\n",
    "        if not WN.synsets(strip):\n",
    "            if strip in stop_words_en:    # <--- Check whether it's in stopword list\n",
    "                print(\"No mistakes :\" + i)\n",
    "            else:\n",
    "                print(\"Wrong spellings : \" +i)\n",
    "        else: \n",
    "            print(\"No mistakes :\" + i)\n"
   ]
  },
  {
   "cell_type": "code",
   "execution_count": 28,
   "metadata": {},
   "outputs": [
    {
     "name": "stdout",
     "output_type": "stream",
     "text": [
      "Wrong spellings : What\n",
      "No mistakes :are\n",
      "No mistakes :the\n",
      "No mistakes :federal\n",
      "Wrong spellings : governmmet\n",
      "No mistakes :rules\n",
      "Wrong spellings : ?\n"
     ]
    }
   ],
   "source": [
    "SpellChecker(question[0])"
   ]
  },
  {
   "cell_type": "code",
   "execution_count": 29,
   "metadata": {
    "collapsed": true
   },
   "outputs": [],
   "source": [
    "def find_main_class(data, category):\n",
    "    for tag in data['tags']:\n",
    "        if tag['tag'].lower() == category:\n",
    "            return tag"
   ]
  },
  {
   "cell_type": "code",
   "execution_count": 30,
   "metadata": {
    "collapsed": true
   },
   "outputs": [],
   "source": [
    "def follow_up_question(block):\n",
    "    if block[\"question\"] == \"N/A\":\n",
    "        return False\n",
    "    else:\n",
    "        return True"
   ]
  },
  {
   "cell_type": "code",
   "execution_count": 31,
   "metadata": {
    "collapsed": true
   },
   "outputs": [],
   "source": [
    "def are_there_options(block):\n",
    "    if \"options\" in block:\n",
    "        return True\n",
    "    else:\n",
    "        return False"
   ]
  },
  {
   "cell_type": "code",
   "execution_count": 32,
   "metadata": {
    "collapsed": true
   },
   "outputs": [],
   "source": [
    "def get_options(block):\n",
    "    return block['options']"
   ]
  },
  {
   "cell_type": "code",
   "execution_count": 33,
   "metadata": {
    "collapsed": true
   },
   "outputs": [],
   "source": [
    "def get_answer(block, subject):\n",
    "    if option['name'] == subject:\n",
    "            if 'answer' in option:\n",
    "                return option['answer']\n",
    "            elif 'options' in option:\n",
    "                return option['options']"
   ]
  },
  {
   "cell_type": "code",
   "execution_count": 34,
   "metadata": {
    "collapsed": true
   },
   "outputs": [],
   "source": [
    "tag = find_main_class(data, semantic.lower())"
   ]
  },
  {
   "cell_type": "code",
   "execution_count": 35,
   "metadata": {},
   "outputs": [
    {
     "name": "stdout",
     "output_type": "stream",
     "text": [
      "True\n"
     ]
    }
   ],
   "source": [
    "print follow_up_question(tag)"
   ]
  },
  {
   "cell_type": "code",
   "execution_count": 36,
   "metadata": {},
   "outputs": [
    {
     "data": {
      "text/plain": [
       "True"
      ]
     },
     "execution_count": 36,
     "metadata": {},
     "output_type": "execute_result"
    }
   ],
   "source": [
    "are_there_options(tag)"
   ]
  }
 ],
 "metadata": {
  "kernelspec": {
   "display_name": "Python 2",
   "language": "python",
   "name": "python2"
  },
  "language_info": {
   "codemirror_mode": {
    "name": "ipython",
    "version": 2
   },
   "file_extension": ".py",
   "mimetype": "text/x-python",
   "name": "python",
   "nbconvert_exporter": "python",
   "pygments_lexer": "ipython2",
   "version": "2.7.13"
  }
 },
 "nbformat": 4,
 "nbformat_minor": 2
}
